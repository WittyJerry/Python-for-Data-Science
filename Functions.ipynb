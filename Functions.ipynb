{
 "cells": [
  {
   "cell_type": "markdown",
   "id": "842b5ace",
   "metadata": {},
   "source": [
    "# Problem: Create a function that takes two numbers as argument and retirns the greater of the two"
   ]
  },
  {
   "cell_type": "code",
   "execution_count": 1,
   "id": "9b834a24",
   "metadata": {},
   "outputs": [],
   "source": [
    "def compare (a,b):\n",
    "    if (a>b):\n",
    "        greater=a\n",
    "    else:\n",
    "        greater=b\n",
    "    return greater\n"
   ]
  },
  {
   "cell_type": "code",
   "execution_count": 2,
   "id": "d66b8734",
   "metadata": {},
   "outputs": [
    {
     "data": {
      "text/plain": [
       "50"
      ]
     },
     "execution_count": 2,
     "metadata": {},
     "output_type": "execute_result"
    }
   ],
   "source": [
    "compare (10,50)"
   ]
  },
  {
   "cell_type": "code",
   "execution_count": 3,
   "id": "e687c3ca",
   "metadata": {},
   "outputs": [
    {
     "data": {
      "text/plain": [
       "50"
      ]
     },
     "execution_count": 3,
     "metadata": {},
     "output_type": "execute_result"
    }
   ],
   "source": [
    "compare (50,10)"
   ]
  },
  {
   "cell_type": "code",
   "execution_count": 4,
   "id": "1e7fa6cc",
   "metadata": {},
   "outputs": [],
   "source": [
    "def odd (a):\n",
    "    if a%2==0:\n",
    "        print (\"not odd\")\n",
    "    else:\n",
    "        print (\"odd\")"
   ]
  },
  {
   "cell_type": "code",
   "execution_count": 5,
   "id": "5801d963",
   "metadata": {},
   "outputs": [
    {
     "name": "stdout",
     "output_type": "stream",
     "text": [
      "odd\n"
     ]
    }
   ],
   "source": [
    "odd (9)"
   ]
  },
  {
   "cell_type": "code",
   "execution_count": 6,
   "id": "9c77e055",
   "metadata": {},
   "outputs": [],
   "source": [
    "def min (a,b):\n",
    "    if (a>b):\n",
    "        return b\n",
    "    elif (a==b):\n",
    "        return 'The numbers are equal'\n",
    "    else:\n",
    "        return a"
   ]
  },
  {
   "cell_type": "code",
   "execution_count": 7,
   "id": "0f186aca",
   "metadata": {},
   "outputs": [
    {
     "data": {
      "text/plain": [
       "200"
      ]
     },
     "execution_count": 7,
     "metadata": {},
     "output_type": "execute_result"
    }
   ],
   "source": [
    "min (200,400)"
   ]
  }
 ],
 "metadata": {
  "kernelspec": {
   "display_name": "Python 3 (ipykernel)",
   "language": "python",
   "name": "python3"
  },
  "language_info": {
   "codemirror_mode": {
    "name": "ipython",
    "version": 3
   },
   "file_extension": ".py",
   "mimetype": "text/x-python",
   "name": "python",
   "nbconvert_exporter": "python",
   "pygments_lexer": "ipython3",
   "version": "3.9.7"
  }
 },
 "nbformat": 4,
 "nbformat_minor": 5
}
