{
 "cells": [
  {
   "cell_type": "markdown",
   "id": "76e7fa2b",
   "metadata": {},
   "source": [
    "# Problem 1: Take a variable x and print \"Even\" if the number is divisible by 2, otherwise print \"Odd\""
   ]
  },
  {
   "cell_type": "code",
   "execution_count": 6,
   "id": "0ee6cb56",
   "metadata": {},
   "outputs": [
    {
     "name": "stdout",
     "output_type": "stream",
     "text": [
      "Even\n"
     ]
    }
   ],
   "source": [
    "x=4\n",
    "if(x%2==0):\n",
    "    print (\"Even\")\n",
    "else:\n",
    "    print (\"Odd\")"
   ]
  },
  {
   "cell_type": "markdown",
   "id": "0742e1b2",
   "metadata": {},
   "source": [
    "# Problem 2: Take a variable y and print \"Grade A\" if y is greater than 90, \"Grade B\" if y is greater than 60 but less than or equal to 90 and \"Grade F\" otherwise."
   ]
  },
  {
   "cell_type": "code",
   "execution_count": 19,
   "id": "419a803e",
   "metadata": {},
   "outputs": [
    {
     "name": "stdout",
     "output_type": "stream",
     "text": [
      "Grade A\n"
     ]
    }
   ],
   "source": [
    "y=95\n",
    "if (y>90):\n",
    "    print (\"Grade A\")\n",
    "elif (y>60):\n",
    "    print (\"Grade B\")\n",
    "else:\n",
    "    print (\"Grade F\")\n"
   ]
  },
  {
   "cell_type": "code",
   "execution_count": 20,
   "id": "a3d555e8",
   "metadata": {},
   "outputs": [
    {
     "name": "stdout",
     "output_type": "stream",
     "text": [
      "Good\n"
     ]
    }
   ],
   "source": [
    "marks = 20\n",
    "if (marks>15):\n",
    "    print (\"Good\")\n",
    "else:\n",
    "    print (\"Improve\")"
   ]
  },
  {
   "cell_type": "code",
   "execution_count": 21,
   "id": "84894efb",
   "metadata": {},
   "outputs": [
    {
     "name": "stdout",
     "output_type": "stream",
     "text": [
      "glass\n"
     ]
    }
   ],
   "source": [
    "if 5 > 10:\n",
    "    print (\"fan\")\n",
    "elif 8 !=9:\n",
    "    print (\"glass\")\n",
    "else:\n",
    "    print (\"cream\")"
   ]
  }
 ],
 "metadata": {
  "kernelspec": {
   "display_name": "Python 3 (ipykernel)",
   "language": "python",
   "name": "python3"
  },
  "language_info": {
   "codemirror_mode": {
    "name": "ipython",
    "version": 3
   },
   "file_extension": ".py",
   "mimetype": "text/x-python",
   "name": "python",
   "nbconvert_exporter": "python",
   "pygments_lexer": "ipython3",
   "version": "3.9.7"
  }
 },
 "nbformat": 4,
 "nbformat_minor": 5
}
